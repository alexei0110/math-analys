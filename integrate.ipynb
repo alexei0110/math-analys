{
 "cells": [
  {
   "cell_type": "code",
   "execution_count": 3,
   "id": "15ee4d67",
   "metadata": {},
   "outputs": [
    {
     "data": {
      "image/png": "[encoded data removed]",
      "text/latex": [
       "$\\displaystyle \\sqrt{2}$"
      ],
      "text/plain": [
       "√2"
      ]
     },
     "execution_count": 3,
     "metadata": {},
     "output_type": "execute_result"
    }
   ],
   "source": [
    "from sympy import *\n",
    "init_printing()\n",
    "x = Symbol('x')\n",
    "f = 1 / (x + 1) / sqrt(x + 1)\n",
    "f\n",
    "integrate(f,(x, 1, +oo)) #аналитическое решение"
   ]
  },
  {
   "cell_type": "code",
   "execution_count": null,
   "id": "d8bd33e5",
   "metadata": {},
   "outputs": [],
   "source": []
  }
 ],
 "metadata": {
  "kernelspec": {
   "display_name": "Python 3 (ipykernel)",
   "language": "python",
   "name": "python3"
  },
  "language_info": {
   "codemirror_mode": {
    "name": "ipython",
    "version": 3
   },
   "file_extension": ".py",
   "mimetype": "text/x-python",
   "name": "python",
   "nbconvert_exporter": "python",
   "pygments_lexer": "ipython3",
   "version": "3.9.7"
  }
 },
 "nbformat": 4,
 "nbformat_minor": 5
}
